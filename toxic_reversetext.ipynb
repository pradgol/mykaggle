{
 "cells": [
  {
   "cell_type": "code",
   "execution_count": null,
   "metadata": {
    "collapsed": true
   },
   "outputs": [],
   "source": [
    "PATH = '/scratch/ppachigo/3192771/fastai/data/toxic/'\n",
    "\n",
    "TRN_PATH = '/scratch/ppachigo/3192771/fastai/data/toxic/train/'\n",
    "TEST_PATH = '/scratch/ppachigo/3192771/fastai/data/toxic/test/'\n",
    "\n",
    "\n",
    "# Sabastian ruder script\n",
    "\n",
    "import numpy as np\n",
    "import fire\n",
    "#from create_toks import FLD\n",
    "import pickle\n",
    "from fastai import *\n",
    "\n",
    "FLD = 'xfld'  # data field tag\n",
    "\n",
    "def _partition_cols(a,idxs):\n",
    "    i=0\n",
    "    for idx in idxs:\n",
    "        yield a[i:i+idx]\n",
    "        i+=idx\n",
    "    yield a[i:]\n"
   ]
  },
  {
   "cell_type": "code",
   "execution_count": null,
   "metadata": {
    "collapsed": true
   },
   "outputs": [],
   "source": [
    "def partition_cols(a,idxs): return list(_partition_cols(a,idxs))\n"
   ]
  },
  {
   "cell_type": "code",
   "execution_count": null,
   "metadata": {
    "collapsed": true
   },
   "outputs": [],
   "source": [
    "def reverse_flds(t, fld_id):\n",
    "    t = np.array(t)\n",
    "    idxs = np.nonzero(t==fld_id)[0]\n",
    "    parts = partition_cols(t,idxs)[1:]\n",
    "    reversed = np.concatenate([np.concatenate([o[:2],o[:1:-1]]) for o in parts[::-1]])\n",
    "    return reversed\n",
    "\n"
   ]
  },
  {
   "cell_type": "code",
   "execution_count": null,
   "metadata": {
    "collapsed": true
   },
   "outputs": [],
   "source": [
    "def create_bw_data(prefix, joined=False):\n",
    "   # print(f'prefix {prefix}')\n",
    "    PATH = f'/scratch/ppachigo/3192771/fastai/data/toxic_lm/'\n",
    "#    PATH=f'ppachigo/3192771/fastai/data/nlp_clas/{prefix}/'\n",
    "#    joined_id = 'lm_' if joined else ''\n",
    "\n",
    "    fwd_trn_path = f'{PATH}tmp/trn_ids.npy'\n",
    "    fwd_val_path = f'{PATH}tmp/val_ids.npy'\n",
    "\n",
    "    bwd_trn_path = f'{PATH}tmp/trn_ids_bwd.npy'\n",
    "    bwd_val_path = f'{PATH}tmp/val_ids_bwd.npy'\n",
    "\n",
    "    fwd_trn = np.load(fwd_trn_path)\n",
    "    fwd_val = np.load(fwd_val_path)\n",
    "    itos = pickle.load(open(f'{PATH}tmp/itos.pkl', 'rb'))\n",
    "    stoi = {s: i for i, s in enumerate(itos)}\n",
    "\n",
    "    fld_id = stoi[FLD]\n",
    "\n",
    "    bwd_trn = np.array([reverse_flds(o, fld_id) for o in fwd_trn])\n",
    "    bwd_val = np.array([reverse_flds(o, fld_id) for o in fwd_val])\n",
    "\n",
    "    np.save(bwd_trn_path, bwd_trn)\n",
    "    np.save(bwd_val_path, bwd_val)\n",
    "\n",
    "\n",
    "\n",
    "if __name__ == '__main__': fire.Fire(create_bw_data)\n",
    "\n",
    "#create_bw_data('train')\n"
   ]
  }
 ],
 "metadata": {
  "kernelspec": {
   "display_name": "Python 3",
   "language": "python",
   "name": "python3"
  },
  "language_info": {
   "codemirror_mode": {
    "name": "ipython",
    "version": 3
   },
   "file_extension": ".py",
   "mimetype": "text/x-python",
   "name": "python",
   "nbconvert_exporter": "python",
   "pygments_lexer": "ipython3",
   "version": "3.6.3"
  }
 },
 "nbformat": 4,
 "nbformat_minor": 2
}
